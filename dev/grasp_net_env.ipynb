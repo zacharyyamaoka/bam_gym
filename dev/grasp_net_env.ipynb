{
 "cells": [
  {
   "cell_type": "code",
   "execution_count": 1,
   "id": "5dcfa542",
   "metadata": {},
   "outputs": [
    {
     "name": "stdout",
     "output_type": "stream",
     "text": [
      "Jupyter environment detected. Enabling Open3D WebVisualizer.\n",
      "[Open3D INFO] WebRTC GUI backend enabled.\n",
      "[Open3D INFO] WebRTCWindowSystem: HTTP handshake server disabled.\n"
     ]
    },
    {
     "name": "stderr",
     "output_type": "stream",
     "text": [
      "WARNING:root:Failed to import ros dependencies in rigid_transforms.py\n",
      "WARNING:root:autolab_core not installed as catkin package, RigidTransform ros methods will be unavailable\n"
     ]
    }
   ],
   "source": [
    "# BAM\n",
    "\n",
    "from bam_gym.envs import GraspNetEnv\n",
    "\n",
    "# PYTHON\n",
    "import numpy as np\n",
    "import open3d as o3d\n",
    "import cv2\n",
    "import matplotlib.pyplot as plt\n",
    "%matplotlib inline\n",
    "\n",
    "\n",
    "%load_ext autoreload\n",
    "%autoreload 2\n",
    "\n"
   ]
  },
  {
   "cell_type": "code",
   "execution_count": 2,
   "id": "1c53f1be",
   "metadata": {},
   "outputs": [
    {
     "name": "stderr",
     "output_type": "stream",
     "text": [
      "Loading data path...: 100%|██████████| 100/100 [00:00<00:00, 734.81it/s]\n"
     ]
    }
   ],
   "source": [
    "env = GraspNetEnv(\"/home/bam/graspnetAPI/graspnet\", render_mode=\"human\")"
   ]
  },
  {
   "cell_type": "code",
   "execution_count": 3,
   "id": "473a29a3",
   "metadata": {},
   "outputs": [
    {
     "name": "stdout",
     "output_type": "stream",
     "text": [
      "Sequence(Box(-1.0, 1.0, (7,), float32), stack=False)\n",
      "Dict('bg_depth': Box(0.0, 10000.0, (720, 1280), float32), 'camera_info': Box(0.0, 10000.0, (3, 3), float32), 'color': Box(0, 255, (720, 1280, 3), uint8), 'depth': Box(0, 10000, (720, 1280), uint16), 'mask': Box(0, 1, (720, 1280), uint8), 'table_pose': Box(-10.0, 10.0, (4, 4), float32))\n"
     ]
    }
   ],
   "source": [
    "print(env.action_space)\n",
    "print(env.observation_space)"
   ]
  },
  {
   "cell_type": "code",
   "execution_count": 4,
   "id": "38a9a8a9",
   "metadata": {},
   "outputs": [
    {
     "name": "stdout",
     "output_type": "stream",
     "text": [
      "Num Scenes:  100\n"
     ]
    }
   ],
   "source": [
    "print(\"Num Scenes: \", len(env.graspnet.sceneIds))"
   ]
  },
  {
   "cell_type": "code",
   "execution_count": 5,
   "id": "e1f7a9af",
   "metadata": {},
   "outputs": [
    {
     "name": "stdout",
     "output_type": "stream",
     "text": [
      "dict_keys(['color', 'depth', 'mask', 'table_pose', 'bg_depth', 'camera_info'])\n"
     ]
    }
   ],
   "source": [
    "obs, info = env.reset()\n",
    "print(obs.keys())"
   ]
  },
  {
   "cell_type": "code",
   "execution_count": 6,
   "id": "f8dce8fd",
   "metadata": {},
   "outputs": [],
   "source": [
    "action = env.action_space.sample()\n",
    "action = np.array([0, 0, 0.1, 0, 0, 0, 0.05])"
   ]
  },
  {
   "cell_type": "code",
   "execution_count": 14,
   "id": "eb9a00a2",
   "metadata": {},
   "outputs": [
    {
     "name": "stdout",
     "output_type": "stream",
     "text": [
      "Using cached scene models\n",
      "Scene scene_0041, realsense\n",
      "Mean Accuracy for scene:0041 ann:0061 = 0.000"
     ]
    }
   ],
   "source": [
    "obs, reward, terminated, truncated, info = env.step(action)"
   ]
  },
  {
   "cell_type": "code",
   "execution_count": null,
   "id": "4214e225",
   "metadata": {},
   "outputs": [
    {
     "name": "stdout",
     "output_type": "stream",
     "text": [
      "Obs:  dict_keys(['color', 'depth', 'mask', 'bg_depth', 'camera_info'])\n"
     ]
    }
   ],
   "source": [
    "print(\"Obs: \", obs.keys())\n",
    "\n",
    "display_visual_data(color, depth, mask, bg_color=None, bg_depth, camera_info)"
   ]
  }
 ],
 "metadata": {
  "kernelspec": {
   "display_name": "venv",
   "language": "python",
   "name": "python3"
  },
  "language_info": {
   "codemirror_mode": {
    "name": "ipython",
    "version": 3
   },
   "file_extension": ".py",
   "mimetype": "text/x-python",
   "name": "python",
   "nbconvert_exporter": "python",
   "pygments_lexer": "ipython3",
   "version": "3.12.3"
  }
 },
 "nbformat": 4,
 "nbformat_minor": 5
}
