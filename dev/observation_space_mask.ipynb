{
 "cells": [
  {
   "cell_type": "code",
   "execution_count": 1,
   "metadata": {},
   "outputs": [],
   "source": [
    "from ros_py_types.geometry_msgs import Pose\n",
    "from bam_gym.envs import custom_spaces\n",
    "from bam_gym.envs.clients import GenericGymClient\n",
    "from bam_gym.transport import MockTransport\n",
    "\n",
    "import gymnasium as gym\n",
    "from gymnasium import spaces\n",
    "import numpy as np\n",
    "\n",
    "%reload_ext autoreload\n",
    "%autoreload 2\n"
   ]
  },
  {
   "cell_type": "code",
   "execution_count": 2,
   "metadata": {},
   "outputs": [],
   "source": [
    "env = GenericGymClient(transport=MockTransport())"
   ]
  },
  {
   "cell_type": "code",
   "execution_count": 3,
   "metadata": {},
   "outputs": [
    {
     "name": "stdout",
     "output_type": "stream",
     "text": [
      "Dict()\n",
      "{}\n"
     ]
    }
   ],
   "source": [
    "print(env.observation_space)\n",
    "print(env.observation_space.sample())"
   ]
  },
  {
   "cell_type": "code",
   "execution_count": 4,
   "metadata": {},
   "outputs": [
    {
     "name": "stdout",
     "output_type": "stream",
     "text": [
      "Dict('pose_names': Sequence(Text(1, 32, charset=0123456789ABCDEFGHIJKLMNOPQRSTUVWXYZabcdefghijklmnopqrstuvwxyz), stack=False), 'pose': Sequence(Dict('orientation': Dict('x': Box(-3.1415927, 3.1415927, (), float32), 'y': Box(-3.1415927, 3.1415927, (), float32), 'z': Box(-3.1415927, 3.1415927, (), float32)), 'position': Dict('x': Box(-10.0, 10.0, (), float32), 'y': Box(-10.0, 10.0, (), float32), 'z': Box(-10.0, 10.0, (), float32))), stack=False))\n",
      "pose_names Sequence(Text(1, 32, charset=0123456789ABCDEFGHIJKLMNOPQRSTUVWXYZabcdefghijklmnopqrstuvwxyz), stack=False)\n",
      "pose Sequence(Dict('orientation': Dict('x': Box(-3.1415927, 3.1415927, (), float32), 'y': Box(-3.1415927, 3.1415927, (), float32), 'z': Box(-3.1415927, 3.1415927, (), float32)), 'position': Dict('x': Box(-10.0, 10.0, (), float32), 'y': Box(-10.0, 10.0, (), float32), 'z': Box(-10.0, 10.0, (), float32))), stack=False)\n",
      "{'orientation': {'x': array(-0.5273541, dtype=float32), 'y': array(0.3649438, dtype=float32), 'z': array(-2.7931607, dtype=float32)}, 'position': {'x': array(-4.8011985, dtype=float32), 'y': array(7.419895, dtype=float32), 'z': array(-7.712735, dtype=float32)}}\n",
      "Pose (ros_py_type): {\n",
      "  \"position\": {\n",
      "    \"x\": -4.801198482513428,\n",
      "    \"y\": 7.419895172119141,\n",
      "    \"z\": -7.712735176086426\n",
      "  },\n",
      "  \"orientation\": {\n",
      "    \"x\": 0.12811052549552007,\n",
      "    \"y\": 0.28279217183189725,\n",
      "    \"z\": -0.926840755662461,\n",
      "    \"w\": 0.21114567116305857\n",
      "  }\n",
      "}\n",
      "[-4.80119848  7.41989517 -7.71273518 -0.52735412  0.3649438  -2.79316068]\n"
     ]
    }
   ],
   "source": [
    "env = GenericGymClient(transport=MockTransport(), n_pose=2)\n",
    "print(env.observation_space)\n",
    "for key, value in env.observation_space.items():\n",
    "    print(key, value)\n",
    "\n",
    "sample = env.observation_space.sample(mask=env.obs_mask)\n",
    "\n",
    "print(sample['pose'][0])\n",
    "\n",
    "pose = Pose.from_dict(sample['pose'][0])\n",
    "print(pose)\n",
    "print(pose.to_array())\n"
   ]
  },
  {
   "cell_type": "code",
   "execution_count": 5,
   "metadata": {},
   "outputs": [
    {
     "name": "stdout",
     "output_type": "stream",
     "text": [
      "2\n",
      "({'orientation': {'x': array(-1.7038851, dtype=float32), 'y': array(2.8505397, dtype=float32), 'z': array(1.1059657, dtype=float32)}, 'position': {'x': array(-9.191089, dtype=float32), 'y': array(3.0121968, dtype=float32), 'z': array(-4.7050867, dtype=float32)}}, {'orientation': {'x': array(2.9969578, dtype=float32), 'y': array(-3.0666096, dtype=float32), 'z': array(2.9440293, dtype=float32)}, 'position': {'x': array(7.883803, dtype=float32), 'y': array(7.649813, dtype=float32), 'z': array(-7.037903, dtype=float32)}})\n"
     ]
    }
   ],
   "source": [
    "# How can I do observation space validation in a policy?\n",
    "\n",
    "# I can sample the observation space and check for values...\n",
    "\n",
    "# For example for blind_policy\n",
    "\n",
    "sample: dict = env.observation_space.sample(mask=env.obs_mask)\n",
    "\n",
    "pose_list = sample.get('pose', ())\n",
    "assert len(pose_list) >= 1\n",
    "print(len(pose_list))\n",
    "print(pose_list)"
   ]
  },
  {
   "cell_type": "code",
   "execution_count": 6,
   "metadata": {},
   "outputs": [
    {
     "name": "stdout",
     "output_type": "stream",
     "text": [
      "[0.02364325]\n",
      "[0.90092736]\n",
      "[-0.71168077]\n",
      "[0.8972989]\n",
      "[-0.37633708]\n",
      "[-0.1533471]\n",
      "[0.65540516]\n",
      "[-0.18160173]\n",
      "[0.09918737]\n",
      "[-0.9448818]\n"
     ]
    }
   ],
   "source": [
    "action_space = spaces.Box(low=-1, high=1, shape=None, dtype=np.float32)\n",
    "\n",
    "action_space.seed(1)\n",
    "for i in range(10):\n",
    "    print(action_space.sample())\n"
   ]
  },
  {
   "cell_type": "code",
   "execution_count": 7,
   "metadata": {},
   "outputs": [
    {
     "data": {
      "text/plain": [
       "(array([0.980985], dtype=float32), array([-0.9163906], dtype=float32))"
      ]
     },
     "execution_count": 7,
     "metadata": {},
     "output_type": "execute_result"
    }
   ],
   "source": [
    "action_space = spaces.Sequence(spaces.Box(low=-1, high=1, shape=None, dtype=np.float32))\n",
    "action_space.sample(mask=(2,None))"
   ]
  },
  {
   "cell_type": "code",
   "execution_count": 8,
   "metadata": {},
   "outputs": [
    {
     "data": {
      "text/plain": [
       "(array([ 0.92100596,  0.06086158, -0.9437766 ,  0.0060397 ,  0.84798694],\n",
       "       dtype=float32),\n",
       " array([ 0.85627806, -0.17273515,  0.8708439 , -0.30081898,  0.39203802],\n",
       "       dtype=float32))"
      ]
     },
     "execution_count": 8,
     "metadata": {},
     "output_type": "execute_result"
    }
   ],
   "source": [
    "action_space = spaces.Sequence(spaces.Box(low=-1, high=1, shape=(5,), dtype=np.float32))\n",
    "action_space.sample(mask=(2,None))"
   ]
  },
  {
   "cell_type": "code",
   "execution_count": 9,
   "metadata": {},
   "outputs": [],
   "source": [
    "observation_dict = spaces.Dict({})\n",
    "observation_dict[\"obs_names\"] = spaces.Sequence(spaces.Text(max_length=32))\n",
    "observation_dict[\"obs\"] = spaces.Sequence(spaces.Box(low=-1, high=1, shape=None, dtype=np.float32))"
   ]
  },
  {
   "cell_type": "code",
   "execution_count": 10,
   "metadata": {},
   "outputs": [
    {
     "data": {
      "text/plain": [
       "{'obs_names': ('cWiQY5OCFzjUlp4lRXyGyTrovVhjXok',\n",
       "  'fTY3nTIDGQr',\n",
       "  'AHrJjLMbiLpbcbm',\n",
       "  'z2xEBuMYpl1WZAsGCY',\n",
       "  'kmIA4N6YelCqjfj'),\n",
       " 'obs': (array([-0.84815335], dtype=float32),\n",
       "  array([0.4123818], dtype=float32),\n",
       "  array([0.4232521], dtype=float32),\n",
       "  array([0.26903862], dtype=float32),\n",
       "  array([0.87645984], dtype=float32))}"
      ]
     },
     "execution_count": 10,
     "metadata": {},
     "output_type": "execute_result"
    }
   ],
   "source": [
    "mask = { \"obs_names\": (5,None), \"obs\": (5,None) }\n",
    "observation_dict.sample(mask=mask)"
   ]
  },
  {
   "cell_type": "code",
   "execution_count": 11,
   "metadata": {},
   "outputs": [],
   "source": [
    "observation_dict = spaces.Dict({})\n",
    "observation_dict[\"obs_names\"] = spaces.Sequence(spaces.Text(max_length=32))\n",
    "observation_dict[\"obs\"] = spaces.Sequence(spaces.Box(low=-1, high=1, shape=(2,2), dtype=np.float32))"
   ]
  },
  {
   "cell_type": "code",
   "execution_count": 12,
   "metadata": {},
   "outputs": [
    {
     "data": {
      "text/plain": [
       "{'obs_names': ('9QKeweedClxZdtYpw5QAMwfuou',\n",
       "  'hfsbpKdvIO2gQ70M',\n",
       "  'nRtSQx3FlFGyLlaoRIDfv5orev0',\n",
       "  'KpOlqYkQuluV0vZoRfjIFg',\n",
       "  'v2EDSqbcV6oWJe'),\n",
       " 'obs': (array([[ 0.9213963 , -0.65090233],\n",
       "         [-0.07813599,  0.9216735 ]], dtype=float32),\n",
       "  array([[-0.00459971,  0.88070905],\n",
       "         [-0.7253376 ,  0.93278176]], dtype=float32),\n",
       "  array([[ 0.73217714, -0.1590461 ],\n",
       "         [-0.64967006, -0.26674056]], dtype=float32),\n",
       "  array([[ 0.719505  ,  0.99923456],\n",
       "         [-0.45023882,  0.40345946]], dtype=float32),\n",
       "  array([[-0.24893403,  0.15110302],\n",
       "         [ 0.89823145, -0.24536996]], dtype=float32))}"
      ]
     },
     "execution_count": 12,
     "metadata": {},
     "output_type": "execute_result"
    }
   ],
   "source": [
    "mask = { \"obs_names\": (5,None), \"obs\": (5,None) }\n",
    "observation_dict.sample(mask=mask)"
   ]
  },
  {
   "cell_type": "markdown",
   "metadata": {},
   "source": [
    "What about neseted sequences?\n",
    "https://gymnasium.farama.org/api/spaces/composite/#gymnasium.spaces.Sequence"
   ]
  },
  {
   "cell_type": "code",
   "execution_count": 13,
   "metadata": {},
   "outputs": [],
   "source": [
    "observation_dict = spaces.Dict({})\n",
    "observation_dict[\"obs_names\"] = spaces.Sequence(spaces.Text(max_length=32))\n",
    "observation_dict[\"obs\"] = spaces.Sequence(spaces.Box(low=-1, high=1, shape=None, dtype=np.float32))\n",
    "\n",
    "observation_dict = spaces.Sequence(observation_dict)"
   ]
  },
  {
   "cell_type": "code",
   "execution_count": 14,
   "metadata": {},
   "outputs": [
    {
     "data": {
      "text/plain": [
       "({'obs_names': ('xDA9RG1sveeumpHpf0LAKzKfak',\n",
       "   'RpBs2GJkcydiepOiwdCHr',\n",
       "   'IoBEzOlOVWeU',\n",
       "   'jiqpP2s1IAm8fsPPNdFI',\n",
       "   'lyY1iuY'),\n",
       "  'obs': (array([-0.3949288], dtype=float32),\n",
       "   array([0.1260257], dtype=float32),\n",
       "   array([-0.05683532], dtype=float32),\n",
       "   array([0.413885], dtype=float32),\n",
       "   array([0.1613597], dtype=float32))},\n",
       " {'obs_names': ('QoEuDBBlXTZrQjTXrYQ0eFoy66',\n",
       "   'uM4WG7',\n",
       "   '9Ty7O82',\n",
       "   '8MJcS3daJ3GuAvk4ZS6E1g',\n",
       "   'a9S0MezC87eyrzVdFBWIl'),\n",
       "  'obs': (array([0.22787406], dtype=float32),\n",
       "   array([-0.3224399], dtype=float32),\n",
       "   array([0.34594372], dtype=float32),\n",
       "   array([0.37780488], dtype=float32),\n",
       "   array([0.3029198], dtype=float32))},\n",
       " {'obs_names': ('qo41dc4FWW',\n",
       "   'YZrlbTrXumc2',\n",
       "   'OX',\n",
       "   'Haqab',\n",
       "   'iBuw0Kw0hUEDxN4ySx9XBAZ'),\n",
       "  'obs': (array([0.12652044], dtype=float32),\n",
       "   array([0.52241015], dtype=float32),\n",
       "   array([-0.73501694], dtype=float32),\n",
       "   array([-0.7111185], dtype=float32),\n",
       "   array([0.00390197], dtype=float32))},\n",
       " {'obs_names': ('b1uiHwPTe3Qv7Vkg',\n",
       "   'zlDfiWN6oXczOepEwLwooMpfp',\n",
       "   'vtclNAiAqwM0a8pBi39hyo',\n",
       "   'eLdOB6DOse7WHUSbmJkgstcY0JZywd9o',\n",
       "   'BVSyXvu56ajsU36HLxd'),\n",
       "  'obs': (array([-0.89094454], dtype=float32),\n",
       "   array([0.76348215], dtype=float32),\n",
       "   array([0.17545073], dtype=float32),\n",
       "   array([-0.00859578], dtype=float32),\n",
       "   array([-0.7293582], dtype=float32))},\n",
       " {'obs_names': ('YIDs',\n",
       "   'RsZJr1nxNwWi6ZdtDll9yDizThk',\n",
       "   'l3KBQUhTQBcM',\n",
       "   'Bh4AbB1ISBiMDiy1B9lTzHZ1Dj',\n",
       "   'PV4LB'),\n",
       "  'obs': (array([-0.03880928], dtype=float32),\n",
       "   array([0.94548005], dtype=float32),\n",
       "   array([-0.20625141], dtype=float32),\n",
       "   array([-0.5607743], dtype=float32),\n",
       "   array([-0.401064], dtype=float32))})"
      ]
     },
     "execution_count": 14,
     "metadata": {},
     "output_type": "execute_result"
    }
   ],
   "source": [
    "mask = (5,{ \"obs_names\": (5,None), \"obs\": (5,None) })\n",
    "observation_dict.sample(mask=mask)"
   ]
  },
  {
   "cell_type": "code",
   "execution_count": 39,
   "metadata": {},
   "outputs": [
    {
     "name": "stdout",
     "output_type": "stream",
     "text": [
      "<bam_gym.envs.custom_spaces.MaskedSpaceWrapper object at 0x7362a4fc3380>\n",
      "({'pose_names': ('72zJ3kF', 'hcojNZgAteh90VWnZTYhzAGMf', 'yLRpN'), 'pose': ({'orientation': {'x': array(0.309465, dtype=float32), 'y': array(-0.60658914, dtype=float32), 'z': array(-1.7445222, dtype=float32)}, 'position': {'x': array(-7.8223505, dtype=float32), 'y': array(-6.119114, dtype=float32), 'z': array(-9.900667, dtype=float32)}}, {'orientation': {'x': array(1.7096548, dtype=float32), 'y': array(1.2376128, dtype=float32), 'z': array(2.31895, dtype=float32)}, 'position': {'x': array(6.707916, dtype=float32), 'y': array(-0.33873174, dtype=float32), 'z': array(-9.598553, dtype=float32)}}, {'orientation': {'x': array(-2.9833686, dtype=float32), 'y': array(-0.820378, dtype=float32), 'z': array(2.861606, dtype=float32)}, 'position': {'x': array(-1.4821353, dtype=float32), 'y': array(-5.5466394, dtype=float32), 'z': array(5.3648176, dtype=float32)}})}, {'pose_names': ('hbB06XdKT5nsGT8NvMCdSVa0Gf3dAu', 'i0NVGGjS4Vwt7tdviLc', 'cK66Ro91brOmWKpMdM63HA2x4AyjkTb'), 'pose': ({'orientation': {'x': array(-2.1855235, dtype=float32), 'y': array(2.0183253, dtype=float32), 'z': array(2.862398, dtype=float32)}, 'position': {'x': array(7.9526653, dtype=float32), 'y': array(4.911191, dtype=float32), 'z': array(8.540573, dtype=float32)}}, {'orientation': {'x': array(1.8629755, dtype=float32), 'y': array(-2.894076, dtype=float32), 'z': array(0.10578248, dtype=float32)}, 'position': {'x': array(6.6236644, dtype=float32), 'y': array(0.13445845, dtype=float32), 'z': array(8.048744, dtype=float32)}}, {'orientation': {'x': array(-2.3189855, dtype=float32), 'y': array(-1.5894992, dtype=float32), 'z': array(1.1944709, dtype=float32)}, 'position': {'x': array(2.9013236, dtype=float32), 'y': array(6.4072924, dtype=float32), 'z': array(8.06482, dtype=float32)}})}, {'pose_names': ('x74YI11Eq', 'S8xAuWSJWjAi8', 'GdxPiAWBJLm'), 'pose': ({'orientation': {'x': array(-1.4468921, dtype=float32), 'y': array(1.4785599, dtype=float32), 'z': array(-0.0693204, dtype=float32)}, 'position': {'x': array(9.641828, dtype=float32), 'y': array(7.654078, dtype=float32), 'z': array(-8.1763525, dtype=float32)}}, {'orientation': {'x': array(1.4399678, dtype=float32), 'y': array(-2.6482394, dtype=float32), 'z': array(-2.3935823, dtype=float32)}, 'position': {'x': array(1.764562, dtype=float32), 'y': array(9.233642, dtype=float32), 'z': array(-1.7315339, dtype=float32)}}, {'orientation': {'x': array(1.4115524, dtype=float32), 'y': array(2.321617, dtype=float32), 'z': array(-0.1850073, dtype=float32)}, 'position': {'x': array(-9.568313, dtype=float32), 'y': array(7.5412264, dtype=float32), 'z': array(3.9342458, dtype=float32)}})}, {'pose_names': ('Bn1wibQdTyVqShhB', 'tpwQk8H0Pf', 'K3nQYZZJ2fSjUrCvvWYo9OdBuuUdNokB'), 'pose': ({'orientation': {'x': array(-2.1816134, dtype=float32), 'y': array(2.3487747, dtype=float32), 'z': array(0.57977575, dtype=float32)}, 'position': {'x': array(2.8661501, dtype=float32), 'y': array(-9.784236, dtype=float32), 'z': array(-9.268656, dtype=float32)}}, {'orientation': {'x': array(-1.3646942, dtype=float32), 'y': array(-0.59811646, dtype=float32), 'z': array(2.7262225, dtype=float32)}, 'position': {'x': array(1.6024551, dtype=float32), 'y': array(-1.6315483, dtype=float32), 'z': array(-2.5056326, dtype=float32)}}, {'orientation': {'x': array(0.50982136, dtype=float32), 'y': array(-1.6897568, dtype=float32), 'z': array(1.1688484, dtype=float32)}, 'position': {'x': array(0.21902838, dtype=float32), 'y': array(2.146372, dtype=float32), 'z': array(-3.5090568, dtype=float32)}})}, {'pose_names': ('JJ7VUiAwyLCcqVkn9kXvsjf', 'iFLDabLLP', 'oO1dlDTHdpK'), 'pose': ({'orientation': {'x': array(-1.7241929, dtype=float32), 'y': array(-2.1371434, dtype=float32), 'z': array(-0.8075925, dtype=float32)}, 'position': {'x': array(9.990666, dtype=float32), 'y': array(-7.989355, dtype=float32), 'z': array(-6.959932, dtype=float32)}}, {'orientation': {'x': array(-1.3701811, dtype=float32), 'y': array(0.8074524, dtype=float32), 'z': array(-3.0003812, dtype=float32)}, 'position': {'x': array(-0.5191617, dtype=float32), 'y': array(-0.16571812, dtype=float32), 'z': array(-7.8704157, dtype=float32)}}, {'orientation': {'x': array(-1.2410438, dtype=float32), 'y': array(2.6612816, dtype=float32), 'z': array(0.78633004, dtype=float32)}, 'position': {'x': array(9.700567, dtype=float32), 'y': array(-6.735974, dtype=float32), 'z': array(3.5910552, dtype=float32)}})})\n",
      "5\n",
      "3\n"
     ]
    }
   ],
   "source": [
    "env = GenericGymClient(transport=MockTransport(), num_envs=5, n_pose=3, automask=True)\n",
    "print(env.observation_space)\n",
    "\n",
    "sample = env.observation_space.sample()\n",
    "print(sample)\n",
    "print(len(sample))\n",
    "\n",
    "if env.num_envs > 1:\n",
    "    print(len(sample[0]['pose']))\n",
    "else:\n",
    "    print(len(sample['pose']))"
   ]
  },
  {
   "cell_type": "code",
   "execution_count": null,
   "metadata": {},
   "outputs": [],
   "source": []
  }
 ],
 "metadata": {
  "kernelspec": {
   "display_name": "venv",
   "language": "python",
   "name": "python3"
  },
  "language_info": {
   "codemirror_mode": {
    "name": "ipython",
    "version": 3
   },
   "file_extension": ".py",
   "mimetype": "text/x-python",
   "name": "python",
   "nbconvert_exporter": "python",
   "pygments_lexer": "ipython3",
   "version": "3.12.3"
  }
 },
 "nbformat": 4,
 "nbformat_minor": 2
}
