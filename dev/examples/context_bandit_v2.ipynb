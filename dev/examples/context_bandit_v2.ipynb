{
 "cells": [
  {
   "cell_type": "code",
   "execution_count": 1,
   "id": "3aff0f13",
   "metadata": {},
   "outputs": [],
   "source": [
    "import gymnasium as gym\n",
    "import bam_gym # you need to import to register\n",
    "from bam_gym.utils import SampleSaver\n",
    "\n",
    "import torch\n",
    "import json"
   ]
  },
  {
   "cell_type": "code",
   "execution_count": 2,
   "id": "d961a22a",
   "metadata": {},
   "outputs": [],
   "source": [
    "n_arms = 10\n",
    "n_state = 1\n",
    "env = gym.make(\"bam/ContextBandit\", n_arms=n_arms, n_state=n_state, seed=1)"
   ]
  },
  {
   "cell_type": "code",
   "execution_count": 3,
   "id": "7b6f163a",
   "metadata": {},
   "outputs": [
    {
     "name": "stdout",
     "output_type": "stream",
     "text": [
      "[SampleSaver] Resuming from /home/bam/other_bam_packages/bam_gym/dataset/ContextBandit/GPU/sarsa_0000.jsonl\n",
      "[SampleSaver] Current counter: 3000, current json count: 3000\n"
     ]
    }
   ],
   "source": [
    "saver = SampleSaver(\"/home/bam/other_bam_packages/bam_gym/dataset\",\n",
    "                 \"ContextBandit\",\n",
    "                 \"GPU\"\n",
    "                 )"
   ]
  },
  {
   "cell_type": "code",
   "execution_count": 4,
   "id": "bdf90265",
   "metadata": {},
   "outputs": [
    {
     "data": {
      "image/png": "[encoded data removed]",
      "text/plain": [
       "<Figure size 1000x500 with 1 Axes>"
      ]
     },
     "metadata": {},
     "output_type": "display_data"
    }
   ],
   "source": [
    "observation, info = env.reset()\n",
    "env.render()\n"
   ]
  },
  {
   "cell_type": "code",
   "execution_count": 5,
   "id": "90c72a02",
   "metadata": {},
   "outputs": [
    {
     "name": "stdout",
     "output_type": "stream",
     "text": [
      "\n",
      "Step Result:\n",
      "Observation: 0\n",
      "Action: 7\n",
      "Reward: -1\n",
      "Terminated: True\n",
      "Truncated: False\n",
      "Next Observation: 0\n"
     ]
    }
   ],
   "source": [
    "action = env.action_space.sample()\n",
    "\n",
    "next_observation, reward, terminated, truncated, next_info = env.step(action)\n",
    "\n",
    "print(f\"\\nStep Result:\")\n",
    "print(f\"Observation: {observation}\")\n",
    "# print(f\"Observation: (shape={observation.shape}, dtype={observation.dtype})\")\n",
    "print(f\"Action: {action}\")\n",
    "print(f\"Reward: {reward}\")\n",
    "print(f\"Terminated: {terminated}\")\n",
    "print(f\"Truncated: {truncated}\")\n",
    "print(f\"Next Observation: {next_observation}\")"
   ]
  },
  {
   "cell_type": "code",
   "execution_count": 6,
   "id": "7685e058",
   "metadata": {},
   "outputs": [
    {
     "name": "stdout",
     "output_type": "stream",
     "text": [
      "[SampleSaver] Finished saving 4000 samples.\n"
     ]
    }
   ],
   "source": [
    "for _ in range(1000):\n",
    "    # action = policy(observation)\n",
    "    action = env.action_space.sample()\n",
    "\n",
    "    next_observation, reward, terminated, truncated, next_info = env.step(action)\n",
    "    saver.save_sample(observation, action, reward, terminated, truncated, info)\n",
    "\n",
    "    observation = next_observation\n",
    "    info = next_info\n",
    "\n",
    "    # Env Auto resets so not needed\n",
    "    # if (terminated or truncated):\n",
    "    #     observation, info = env.reset()\n",
    "\n",
    "env.close()\n",
    "saver.close()\n"
   ]
  },
  {
   "cell_type": "code",
   "execution_count": 7,
   "id": "0e958c5b",
   "metadata": {},
   "outputs": [
    {
     "name": "stdout",
     "output_type": "stream",
     "text": [
      "Loaded 4000 samples.\n",
      "{'#': 0, 's': {'obs': 0}, 'a': 7, 'r': -1}\n"
     ]
    }
   ],
   "source": [
    "dataset = []\n",
    "with open('/home/bam/other_bam_packages/bam_gym/dataset/ContextBandit/GPU/sarsa_0000.jsonl', 'r') as f:\n",
    "    for line in f:\n",
    "        dataset.append(json.loads(line))\n",
    "\n",
    "\n",
    "print(f\"Loaded {len(dataset)} samples.\")\n",
    "print(dataset[0])"
   ]
  },
  {
   "cell_type": "code",
   "execution_count": 8,
   "id": "31373480",
   "metadata": {},
   "outputs": [
    {
     "name": "stdout",
     "output_type": "stream",
     "text": [
      "\n",
      "Reward Sum Matrix:\n",
      "tensor([[-275., -380.,  404., -363., -365., -166., -339., -390., -385., -361.]])\n",
      "\n",
      "Average Reward Matrix:\n",
      "tensor([[-0.7218, -0.9548,  1.0000, -0.9578, -0.9733, -0.4049, -0.8496, -0.9070,\n",
      "         -0.9847, -0.8337]])\n",
      "State 0: Best action is 2 with estimated average reward 1.00\n"
     ]
    }
   ],
   "source": [
    "# Counting Solution\n",
    "n_arms = 10\n",
    "n_state = 1\n",
    "\n",
    "reward_sum = torch.zeros((n_state, n_arms), dtype=torch.float32)\n",
    "action_count = torch.zeros((n_state, n_arms), dtype=torch.float32)\n",
    "\n",
    "for entry in dataset:\n",
    "    state = entry['s']['obs']   # Assuming 'obs' is an integer state ID\n",
    "    action = entry['a']\n",
    "    reward = entry['r']\n",
    "\n",
    "    reward_sum[state, action] += reward\n",
    "    action_count[state, action] += 1\n",
    "\n",
    "# Avoid division by zero\n",
    "avg_reward = torch.where(\n",
    "    action_count > 0,\n",
    "    reward_sum / action_count,\n",
    "    torch.zeros_like(reward_sum)\n",
    ")\n",
    "\n",
    "print(\"\\nReward Sum Matrix:\")\n",
    "print(reward_sum)\n",
    "\n",
    "print(\"\\nAverage Reward Matrix:\")\n",
    "print(avg_reward)\n",
    "\n",
    "# Find best action per state\n",
    "for state in range(n_state):\n",
    "    best_action = torch.argmax(avg_reward[state]).item()\n",
    "    best_reward = avg_reward[state, best_action]\n",
    "    print(f\"State {state}: Best action is {best_action} with estimated average reward {best_reward:.2f}\")"
   ]
  },
  {
   "cell_type": "code",
   "execution_count": 10,
   "id": "6f978628",
   "metadata": {},
   "outputs": [],
   "source": [
    "import torch\n",
    "import torch.nn as nn\n",
    "import torch.optim as optim"
   ]
  },
  {
   "cell_type": "code",
   "execution_count": 11,
   "id": "3172d8fb",
   "metadata": {},
   "outputs": [],
   "source": [
    "class SimpleFCN(nn.Module):\n",
    "    def __init__(self, n_states, n_actions):\n",
    "        super().__init__()\n",
    "\n",
    "        # One-hot input → output actions\n",
    "        self.fc = nn.Linear(n_states, n_actions, bias=False)  # no bias to match pure s x n weight\n",
    "\n",
    "    def forward(self, state_index):\n",
    "        # Convert state index to one-hot\n",
    "        one_hot = torch.nn.functional.one_hot(state_index, num_classes=self.fc.in_features).float()\n",
    "        output = self.fc(one_hot)\n",
    "        return output"
   ]
  },
  {
   "cell_type": "code",
   "execution_count": null,
   "id": "ad20d196",
   "metadata": {},
   "outputs": [],
   "source": [
    "model = SimpleFCN(n_state, n_arms)\n"
   ]
  },
  {
   "cell_type": "code",
   "execution_count": 18,
   "id": "4b88bfc3",
   "metadata": {},
   "outputs": [],
   "source": [
    "optimizer = optim.SGD(model.parameters(), lr=1e-2)\n"
   ]
  },
  {
   "cell_type": "markdown",
   "id": "e4aaffac",
   "metadata": {},
   "source": [
    "https://stats.stackexchange.com/questions/249355/how-exactly-to-compute-deep-q-learning-loss-function"
   ]
  },
  {
   "cell_type": "code",
   "execution_count": 15,
   "id": "714891dd",
   "metadata": {},
   "outputs": [
    {
     "name": "stdout",
     "output_type": "stream",
     "text": [
      "tensor([[ 0.8855],\n",
      "        [ 0.4967],\n",
      "        [ 0.1392],\n",
      "        [-0.3133],\n",
      "        [-0.0713],\n",
      "        [-0.5528],\n",
      "        [ 0.1615],\n",
      "        [-0.3174],\n",
      "        [-0.9967],\n",
      "        [-0.2480]])\n"
     ]
    }
   ],
   "source": [
    "print(model.fc.weight.data)\n"
   ]
  },
  {
   "cell_type": "code",
   "execution_count": null,
   "id": "edf19cda",
   "metadata": {},
   "outputs": [
    {
     "name": "stdout",
     "output_type": "stream",
     "text": [
      "tensor([[-0.7218, -0.9548,  1.0000, -0.9578, -0.9744, -0.4285, -0.8526, -0.9070,\n",
      "         -0.9850, -0.8370]], grad_fn=<MmBackward0>)\n",
      "Loss: 0.0774\n"
     ]
    }
   ],
   "source": [
    "for i in range(1000):\n",
    "    batch_size = 1\n",
    "\n",
    "    shuffled_indices = torch.randperm(len(dataset))\n",
    "\n",
    "    for start_idx in range(0, len(dataset), batch_size):\n",
    "        batch_indices = shuffled_indices[start_idx:start_idx + batch_size]\n",
    "        batch = [dataset[i] for i in batch_indices]\n",
    "\n",
    "        # Extract tensors\n",
    "        states = torch.tensor([b['s']['obs'] for b in batch], dtype=torch.long)\n",
    "        actions = torch.tensor([b['a'] for b in batch], dtype=torch.long)\n",
    "        rewards = torch.tensor([b['r'] for b in batch], dtype=torch.float32)\n",
    "\n",
    "        # Forward pass\n",
    "        logits = model(states)  # (batch_size, n_actions)\n",
    "\n",
    "        # For Q-learning: treat logits directly as Q-values\n",
    "        q_values = logits  # (batch_size, n_actions)\n",
    "        print(q_values)\n",
    "        # Get the predicted Q-value for the action taken\n",
    "        selected_q_values = q_values[torch.arange(len(batch)), actions]\n",
    "\n",
    "        # Q-learning Loss = (Q_predicted - reward)^2\n",
    "        loss = torch.nn.functional.mse_loss(selected_q_values, rewards)\n",
    "\n",
    "        # Backpropagation\n",
    "        optimizer.zero_grad()\n",
    "        loss.backward()\n",
    "        optimizer.step()\n",
    "\n",
    "        print(f\"Loss: {loss:.4f}\")\n",
    "        break\n",
    "    break\n"
   ]
  },
  {
   "cell_type": "code",
   "execution_count": null,
   "id": "5ae230ae",
   "metadata": {},
   "outputs": [
    {
     "name": "stdout",
     "output_type": "stream",
     "text": [
      "tensor([[-0.7218, -0.9548,  1.0000, -0.9578, -0.9733, -0.4049, -0.8496, -0.9070,\n",
      "         -0.9847, -0.8337]])\n",
      "tensor([[-0.7218, -0.9548,  1.0000, -0.9578, -0.9744, -0.4285, -0.8526, -0.9070,\n",
      "         -0.9850, -0.8370]], grad_fn=<MmBackward0>)\n",
      "tensor([[ 3.5763e-07, -4.2915e-06, -9.5367e-07,  2.3842e-07, -1.0582e-03,\n",
      "         -2.3604e-02, -3.0113e-03,  5.0664e-06, -3.0273e-04, -3.3198e-03]],\n",
      "       grad_fn=<SubBackward0>)\n"
     ]
    }
   ],
   "source": [
    "print(avg_reward)\n",
    "print(q_values)\n",
    "print(q_values- avg_reward)\n",
    "\n",
    "# They are basically exactly equal! There are many ways to calculate a moving average online...\n",
    "# Q learning looks alot like calculating a moving average with fixed step size... (See RL book)\n",
    "# You are basically counting in a soft way"
   ]
  }
 ],
 "metadata": {
  "kernelspec": {
   "display_name": ".venv",
   "language": "python",
   "name": "python3"
  },
  "language_info": {
   "codemirror_mode": {
    "name": "ipython",
    "version": 3
   },
   "file_extension": ".py",
   "mimetype": "text/x-python",
   "name": "python",
   "nbconvert_exporter": "python",
   "pygments_lexer": "ipython3",
   "version": "3.12.3"
  }
 },
 "nbformat": 4,
 "nbformat_minor": 5
}
