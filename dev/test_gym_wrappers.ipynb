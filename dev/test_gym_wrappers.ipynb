{
 "cells": [
  {
   "cell_type": "code",
   "execution_count": 1,
   "id": "6e3e593d",
   "metadata": {},
   "outputs": [],
   "source": [
    "\n",
    "import gymnasium as gym\n",
    "from gymnasium import spaces\n",
    "import numpy as np\n",
    "\n",
    "import bam_gym\n",
    "from bam_gym.wrappers.mock_obs import MockObs\n",
    "from bam_gym.utils import print_step, print_gym_space, print_reset, print_observation, print_action\n",
    "from bam_gym.transport import MockTransport \n",
    "\n",
    "%reload_ext autoreload\n",
    "%autoreload 2\n",
    "\n"
   ]
  },
  {
   "cell_type": "code",
   "execution_count": 2,
   "id": "dcd3d1c0",
   "metadata": {},
   "outputs": [
    {
     "name": "stdout",
     "output_type": "stream",
     "text": [
      "called!\n",
      "<MockObs<TimeLimit<OrderEnforcing<PassiveEnvChecker<CartPoleEnv<CartPole-v1>>>>>>\n",
      "called!\n",
      "called!\n"
     ]
    },
    {
     "data": {
      "text/plain": [
       "(array([-3.8268769 ,  1.5464551 , -0.2668858 ,  0.97988486], dtype=float32),\n",
       " 1.0,\n",
       " False,\n",
       " False,\n",
       " {})"
      ]
     },
     "execution_count": 2,
     "metadata": {},
     "output_type": "execute_result"
    }
   ],
   "source": [
    "env = gym.make(\"CartPole-v1\")\n",
    "env = MockObs(env)\n",
    "print(env)\n",
    "env.reset()\n",
    "env.step(env.action_space.sample())"
   ]
  },
  {
   "cell_type": "code",
   "execution_count": null,
   "id": "d2385cfc",
   "metadata": {},
   "outputs": [
    {
     "name": "stdout",
     "output_type": "stream",
     "text": [
      "<MockObs<OrderEnforcing<GenericGymClient<bam/GenericGymClient>>>>\n",
      "<PassiveEnvChecker<MockObs<OrderEnforcing<GenericGymClient<bam/GenericGymClient>>>>>\n",
      "Discrete(1)\n",
      "<MaskedSpace<Dict('pose_names': Sequence(Text(1, 32, charset=0123456789ABCDEFGHIJKLMNOPQRSTUVWXYZabcdefghijklmnopqrstuvwxyz), stack=False), 'pose': Sequence(Dict('orientation': Dict('x': Box(-3.1415927, 3.1415927, (), float32), 'y': Box(-3.1415927, 3.1415927, (), float32), 'z': Box(-3.1415927, 3.1415927, (), float32)), 'position': Dict('x': Box(-10.0, 10.0, (), float32), 'y': Box(-10.0, 10.0, (), float32), 'z': Box(-10.0, 10.0, (), float32))), stack=False))>>\n",
      "\n",
      "Reset Result:\n",
      "    Observation : {'pose_names': ['AozSCFV6'], 'pose': [{'orientation': {'x': '2.1', 'y': '-1.9', 'z': '3.1'}, 'position': {'x': '3.2', 'y': '4.1', 'z': '-4.9'}}]}\n",
      "    Info        : {'header': {'process_duration': 0.0, 'transport_duration': 0.0, 'error_code': {'value': 'FAILURE'}, 'error_msg': 'MockTransport: No server running, so no obs to return.', 'calibrated': False, 'response_stamp': {'sec': 0, 'nanosec': 0}}}\n",
      "\n",
      "[0] Step Result:\n",
      "    Action      : 0\n",
      "    Observation : {'pose_names': ['ynY8QB2XQHKEs'], 'pose': [{'orientation': {'x': '2.3', 'y': '0.6', 'z': '2.5'}, 'position': {'x': '-8.9', 'y': '9.0', 'z': '-3.4'}}]}\n",
      "    Reward      : 0.0\n",
      "    Terminated  : False\n",
      "    Truncated   : False\n",
      "    Info        : {'header': {'process_duration': 0.0, 'transport_duration': 0.0, 'error_code': {'value': 'FAILURE'}, 'error_msg': 'MockTransport: No server running, so no obs to return.', 'calibrated': False, 'response_stamp': {'sec': 0, 'nanosec': 0}}}\n"
     ]
    }
   ],
   "source": [
    "# The passive Env checker is nice to make sure that environment is compliant!\n",
    "# It doesn't work with Transport though, as it can sometimes return empty observations!\n",
    "# So its ok in development, but not in production.\n",
    "\n",
    "env = gym.make(\"bam/GenericGymClient\", disable_env_checker=True, transport=MockTransport(), n_pose=1)\n",
    "env = MockObs(env)\n",
    "print(env)\n",
    "env = gym.wrappers.PassiveEnvChecker(env)\n",
    "print(env)\n",
    "\n",
    "print(env.action_space)\n",
    "print(env.observation_space)\n",
    "print_reset(*env.reset())\n",
    "action = env.action_space.sample()\n",
    "print_step(action, *env.step(env.action_space.sample()))"
   ]
  },
  {
   "cell_type": "code",
   "execution_count": 181,
   "id": "86e2b662",
   "metadata": {},
   "outputs": [
    {
     "name": "stdout",
     "output_type": "stream",
     "text": [
      "<OrderEnforcing<GenericGymClient<bam/GenericGymClient>>>\n",
      "Discrete(1)\n",
      "<MaskedSpace<Dict('pose_names': Sequence(Text(1, 32, charset=0123456789ABCDEFGHIJKLMNOPQRSTUVWXYZabcdefghijklmnopqrstuvwxyz), stack=False), 'pose': Sequence(Dict('orientation': Dict('x': Box(-3.1415927, 3.1415927, (), float32), 'y': Box(-3.1415927, 3.1415927, (), float32), 'z': Box(-3.1415927, 3.1415927, (), float32)), 'position': Dict('x': Box(-10.0, 10.0, (), float32), 'y': Box(-10.0, 10.0, (), float32), 'z': Box(-10.0, 10.0, (), float32))), stack=False))>>\n",
      "\n",
      "Reset Result:\n",
      "    Observation : {}\n",
      "    Info        : {'header': {'process_duration': 0.0, 'transport_duration': 0.0, 'error_code': {'value': 'FAILURE'}, 'error_msg': 'MockTransport: No server running, so no obs to return.', 'calibrated': False, 'response_stamp': {'sec': 0, 'nanosec': 0}}}\n",
      "\n",
      "[0] Step Result:\n",
      "    Action      : 0\n",
      "    Observation : {}\n",
      "    Reward      : 0.0\n",
      "    Terminated  : False\n",
      "    Truncated   : False\n",
      "    Info        : {'header': {'process_duration': 0.0, 'transport_duration': 0.0, 'error_code': {'value': 'FAILURE'}, 'error_msg': 'MockTransport: No server running, so no obs to return.', 'calibrated': False, 'response_stamp': {'sec': 0, 'nanosec': 0}}}\n"
     ]
    }
   ],
   "source": [
    "env = gym.make(\"bam/GenericGymClient\", disable_env_checker=True, transport=MockTransport(), n_pose=1)\n",
    "print(env)\n",
    "\n",
    "print(env.action_space)\n",
    "print(env.observation_space)\n",
    "print_reset(*env.reset())\n",
    "action = env.action_space.sample()\n",
    "print_step(action, *env.step(env.action_space.sample()))"
   ]
  },
  {
   "cell_type": "code",
   "execution_count": null,
   "id": "bbd627c8",
   "metadata": {},
   "outputs": [],
   "source": [
    "\n",
    "env.step(env.action_space.sample())"
   ]
  },
  {
   "cell_type": "code",
   "execution_count": 25,
   "id": "2139b082",
   "metadata": {},
   "outputs": [
    {
     "ename": "AssertionError",
     "evalue": "Expected env to be a `gymnasium.Env` but got <class 'gymnasium.envs.classic_control.cartpole.CartPoleVectorEnv'>",
     "output_type": "error",
     "traceback": [
      "\u001b[31m---------------------------------------------------------------------------\u001b[39m",
      "\u001b[31mAssertionError\u001b[39m                            Traceback (most recent call last)",
      "\u001b[36mCell\u001b[39m\u001b[36m \u001b[39m\u001b[32mIn[25]\u001b[39m\u001b[32m, line 2\u001b[39m\n\u001b[32m      1\u001b[39m env = gym.make_vec(\u001b[33m\"\u001b[39m\u001b[33mCartPole-v1\u001b[39m\u001b[33m\"\u001b[39m)\n\u001b[32m----> \u001b[39m\u001b[32m2\u001b[39m env = \u001b[43mMockObs\u001b[49m\u001b[43m(\u001b[49m\u001b[43menv\u001b[49m\u001b[43m)\u001b[49m\n\u001b[32m      3\u001b[39m \u001b[38;5;28mprint\u001b[39m(env)\n",
      "\u001b[36mFile \u001b[39m\u001b[32m<string>:3\u001b[39m, in \u001b[36m__init__\u001b[39m\u001b[34m(self, env)\u001b[39m\n",
      "\u001b[36mFile \u001b[39m\u001b[32m~/bam_ws/venv/lib/python3.12/site-packages/gymnasium/core.py:313\u001b[39m, in \u001b[36mWrapper.__init__\u001b[39m\u001b[34m(self, env)\u001b[39m\n\u001b[32m    307\u001b[39m \u001b[38;5;250m\u001b[39m\u001b[33;03m\"\"\"Wraps an environment to allow a modular transformation of the :meth:`step` and :meth:`reset` methods.\u001b[39;00m\n\u001b[32m    308\u001b[39m \n\u001b[32m    309\u001b[39m \u001b[33;03mArgs:\u001b[39;00m\n\u001b[32m    310\u001b[39m \u001b[33;03m    env: The environment to wrap\u001b[39;00m\n\u001b[32m    311\u001b[39m \u001b[33;03m\"\"\"\u001b[39;00m\n\u001b[32m    312\u001b[39m \u001b[38;5;28mself\u001b[39m.env = env\n\u001b[32m--> \u001b[39m\u001b[32m313\u001b[39m \u001b[38;5;28;01massert\u001b[39;00m \u001b[38;5;28misinstance\u001b[39m(\n\u001b[32m    314\u001b[39m     env, Env\n\u001b[32m    315\u001b[39m ), \u001b[33mf\u001b[39m\u001b[33m\"\u001b[39m\u001b[33mExpected env to be a `gymnasium.Env` but got \u001b[39m\u001b[38;5;132;01m{\u001b[39;00m\u001b[38;5;28mtype\u001b[39m(env)\u001b[38;5;132;01m}\u001b[39;00m\u001b[33m\"\u001b[39m\n\u001b[32m    317\u001b[39m \u001b[38;5;28mself\u001b[39m._action_space: spaces.Space[WrapperActType] | \u001b[38;5;28;01mNone\u001b[39;00m = \u001b[38;5;28;01mNone\u001b[39;00m\n\u001b[32m    318\u001b[39m \u001b[38;5;28mself\u001b[39m._observation_space: spaces.Space[WrapperObsType] | \u001b[38;5;28;01mNone\u001b[39;00m = \u001b[38;5;28;01mNone\u001b[39;00m\n",
      "\u001b[31mAssertionError\u001b[39m: Expected env to be a `gymnasium.Env` but got <class 'gymnasium.envs.classic_control.cartpole.CartPoleVectorEnv'>"
     ]
    }
   ],
   "source": [
    "env = gym.make_vec(\"CartPole-v1\")\n",
    "env = MockObs(env)\n",
    "print(env)"
   ]
  },
  {
   "cell_type": "code",
   "execution_count": 59,
   "id": "da4541c4",
   "metadata": {},
   "outputs": [
    {
     "name": "stdout",
     "output_type": "stream",
     "text": [
      "Box([-4.8               -inf -0.41887903        -inf], [4.8               inf 0.41887903        inf], (4,), float32)\n",
      "Called\n",
      "Called\n"
     ]
    },
    {
     "data": {
      "text/plain": [
       "(array([ 3.326965  , -0.01999814,  0.13210985, -0.8156009 ], dtype=float32),\n",
       " 1.0,\n",
       " False,\n",
       " False,\n",
       " {})"
      ]
     },
     "execution_count": 59,
     "metadata": {},
     "output_type": "execute_result"
    }
   ],
   "source": [
    "print(env.observation_space)\n",
    "env.reset()\n",
    "env.step(env.action_space.sample())"
   ]
  },
  {
   "cell_type": "code",
   "execution_count": null,
   "id": "3e075b56",
   "metadata": {},
   "outputs": [
    {
     "name": "stdout",
     "output_type": "stream",
     "text": [
      "<Autoreset<TimeLimit<OrderEnforcing<PassiveEnvChecker<CartPoleEnv<CartPole-v1>>>>>>\n"
     ]
    }
   ],
   "source": [
    "env = gym.make(\"CartPole-v1\")\n",
    "env = gym.wrappers.Autoreset(env)\n",
    "print(env)"
   ]
  },
  {
   "cell_type": "code",
   "execution_count": null,
   "id": "1ebb1d57",
   "metadata": {},
   "outputs": [],
   "source": []
  },
  {
   "cell_type": "code",
   "execution_count": 64,
   "id": "15cef3cd",
   "metadata": {},
   "outputs": [
    {
     "ename": "AttributeError",
     "evalue": "module 'gymnasium.wrappers.vector' has no attribute 'Autoreset'",
     "output_type": "error",
     "traceback": [
      "\u001b[31m---------------------------------------------------------------------------\u001b[39m",
      "\u001b[31mAttributeError\u001b[39m                            Traceback (most recent call last)",
      "\u001b[36mCell\u001b[39m\u001b[36m \u001b[39m\u001b[32mIn[64]\u001b[39m\u001b[32m, line 2\u001b[39m\n\u001b[32m      1\u001b[39m env = gym.make_vec(\u001b[33m\"\u001b[39m\u001b[33mCartPole-v1\u001b[39m\u001b[33m\"\u001b[39m)\n\u001b[32m----> \u001b[39m\u001b[32m2\u001b[39m env = \u001b[43mgym\u001b[49m\u001b[43m.\u001b[49m\u001b[43mwrappers\u001b[49m\u001b[43m.\u001b[49m\u001b[43mvector\u001b[49m\u001b[43m.\u001b[49m\u001b[43mAutoreset\u001b[49m(env)\n\u001b[32m      3\u001b[39m \u001b[38;5;28mprint\u001b[39m(env)\n",
      "\u001b[36mFile \u001b[39m\u001b[32m~/bam_ws/venv/lib/python3.12/site-packages/gymnasium/wrappers/vector/__init__.py:108\u001b[39m, in \u001b[36m__getattr__\u001b[39m\u001b[34m(wrapper_name)\u001b[39m\n\u001b[32m    105\u001b[39m     module = importlib.import_module(import_stmt)\n\u001b[32m    106\u001b[39m     \u001b[38;5;28;01mreturn\u001b[39;00m \u001b[38;5;28mgetattr\u001b[39m(module, wrapper_name)\n\u001b[32m--> \u001b[39m\u001b[32m108\u001b[39m \u001b[38;5;28;01mraise\u001b[39;00m \u001b[38;5;167;01mAttributeError\u001b[39;00m(\u001b[33mf\u001b[39m\u001b[33m\"\u001b[39m\u001b[33mmodule \u001b[39m\u001b[38;5;132;01m{\u001b[39;00m\u001b[34m__name__\u001b[39m\u001b[38;5;132;01m!r}\u001b[39;00m\u001b[33m has no attribute \u001b[39m\u001b[38;5;132;01m{\u001b[39;00mwrapper_name\u001b[38;5;132;01m!r}\u001b[39;00m\u001b[33m\"\u001b[39m)\n",
      "\u001b[31mAttributeError\u001b[39m: module 'gymnasium.wrappers.vector' has no attribute 'Autoreset'"
     ]
    }
   ],
   "source": [
    "env = gym.make_vec(\"CartPole-v1\")\n",
    "env = gym.wrappers.vector.Autoreset(env)\n",
    "print(env)"
   ]
  },
  {
   "cell_type": "code",
   "execution_count": 60,
   "id": "b6160d29",
   "metadata": {},
   "outputs": [
    {
     "ename": "AssertionError",
     "evalue": "Expected env to be a `gymnasium.Env` but got <class 'gymnasium.envs.classic_control.cartpole.CartPoleVectorEnv'>",
     "output_type": "error",
     "traceback": [
      "\u001b[31m---------------------------------------------------------------------------\u001b[39m",
      "\u001b[31mAssertionError\u001b[39m                            Traceback (most recent call last)",
      "\u001b[36mCell\u001b[39m\u001b[36m \u001b[39m\u001b[32mIn[60]\u001b[39m\u001b[32m, line 2\u001b[39m\n\u001b[32m      1\u001b[39m env = gym.make_vec(\u001b[33m\"\u001b[39m\u001b[33mCartPole-v1\u001b[39m\u001b[33m\"\u001b[39m)\n\u001b[32m----> \u001b[39m\u001b[32m2\u001b[39m env = \u001b[43mMockObs\u001b[49m\u001b[43m(\u001b[49m\u001b[43menv\u001b[49m\u001b[43m)\u001b[49m\n\u001b[32m      3\u001b[39m \u001b[38;5;28mprint\u001b[39m(env)\n",
      "\u001b[36mFile \u001b[39m\u001b[32m<string>:3\u001b[39m, in \u001b[36m__init__\u001b[39m\u001b[34m(self, env)\u001b[39m\n",
      "\u001b[36mFile \u001b[39m\u001b[32m~/bam_ws/venv/lib/python3.12/site-packages/gymnasium/core.py:547\u001b[39m, in \u001b[36mObservationWrapper.__init__\u001b[39m\u001b[34m(self, env)\u001b[39m\n\u001b[32m    541\u001b[39m \u001b[38;5;28;01mdef\u001b[39;00m\u001b[38;5;250m \u001b[39m\u001b[34m__init__\u001b[39m(\u001b[38;5;28mself\u001b[39m, env: Env[ObsType, ActType]):\n\u001b[32m    542\u001b[39m \u001b[38;5;250m    \u001b[39m\u001b[33;03m\"\"\"Constructor for the observation wrapper.\u001b[39;00m\n\u001b[32m    543\u001b[39m \n\u001b[32m    544\u001b[39m \u001b[33;03m    Args:\u001b[39;00m\n\u001b[32m    545\u001b[39m \u001b[33;03m        env: Environment to be wrapped.\u001b[39;00m\n\u001b[32m    546\u001b[39m \u001b[33;03m    \"\"\"\u001b[39;00m\n\u001b[32m--> \u001b[39m\u001b[32m547\u001b[39m     \u001b[43mWrapper\u001b[49m\u001b[43m.\u001b[49m\u001b[34;43m__init__\u001b[39;49m\u001b[43m(\u001b[49m\u001b[38;5;28;43mself\u001b[39;49m\u001b[43m,\u001b[49m\u001b[43m \u001b[49m\u001b[43menv\u001b[49m\u001b[43m)\u001b[49m\n",
      "\u001b[36mFile \u001b[39m\u001b[32m~/bam_ws/venv/lib/python3.12/site-packages/gymnasium/core.py:313\u001b[39m, in \u001b[36mWrapper.__init__\u001b[39m\u001b[34m(self, env)\u001b[39m\n\u001b[32m    307\u001b[39m \u001b[38;5;250m\u001b[39m\u001b[33;03m\"\"\"Wraps an environment to allow a modular transformation of the :meth:`step` and :meth:`reset` methods.\u001b[39;00m\n\u001b[32m    308\u001b[39m \n\u001b[32m    309\u001b[39m \u001b[33;03mArgs:\u001b[39;00m\n\u001b[32m    310\u001b[39m \u001b[33;03m    env: The environment to wrap\u001b[39;00m\n\u001b[32m    311\u001b[39m \u001b[33;03m\"\"\"\u001b[39;00m\n\u001b[32m    312\u001b[39m \u001b[38;5;28mself\u001b[39m.env = env\n\u001b[32m--> \u001b[39m\u001b[32m313\u001b[39m \u001b[38;5;28;01massert\u001b[39;00m \u001b[38;5;28misinstance\u001b[39m(\n\u001b[32m    314\u001b[39m     env, Env\n\u001b[32m    315\u001b[39m ), \u001b[33mf\u001b[39m\u001b[33m\"\u001b[39m\u001b[33mExpected env to be a `gymnasium.Env` but got \u001b[39m\u001b[38;5;132;01m{\u001b[39;00m\u001b[38;5;28mtype\u001b[39m(env)\u001b[38;5;132;01m}\u001b[39;00m\u001b[33m\"\u001b[39m\n\u001b[32m    317\u001b[39m \u001b[38;5;28mself\u001b[39m._action_space: spaces.Space[WrapperActType] | \u001b[38;5;28;01mNone\u001b[39;00m = \u001b[38;5;28;01mNone\u001b[39;00m\n\u001b[32m    318\u001b[39m \u001b[38;5;28mself\u001b[39m._observation_space: spaces.Space[WrapperObsType] | \u001b[38;5;28;01mNone\u001b[39;00m = \u001b[38;5;28;01mNone\u001b[39;00m\n",
      "\u001b[31mAssertionError\u001b[39m: Expected env to be a `gymnasium.Env` but got <class 'gymnasium.envs.classic_control.cartpole.CartPoleVectorEnv'>"
     ]
    }
   ],
   "source": [
    "env = gym.make_vec(\"CartPole-v1\")\n",
    "env = MockObs(env)\n",
    "print(env)"
   ]
  },
  {
   "cell_type": "code",
   "execution_count": null,
   "id": "b527f4a9",
   "metadata": {},
   "outputs": [
    {
     "name": "stdout",
     "output_type": "stream",
     "text": [
      "Called\n"
     ]
    },
    {
     "data": {
      "text/plain": [
       "(array([-4.0382977 , -0.8276858 , -0.285829  ,  0.24939997], dtype=float32),\n",
       " 1.0,\n",
       " False,\n",
       " False,\n",
       " {})"
      ]
     },
     "execution_count": 47,
     "metadata": {},
     "output_type": "execute_result"
    }
   ],
   "source": []
  },
  {
   "cell_type": "code",
   "execution_count": null,
   "id": "c28da180",
   "metadata": {},
   "outputs": [],
   "source": []
  }
 ],
 "metadata": {
  "kernelspec": {
   "display_name": "venv",
   "language": "python",
   "name": "python3"
  },
  "language_info": {
   "codemirror_mode": {
    "name": "ipython",
    "version": 3
   },
   "file_extension": ".py",
   "mimetype": "text/x-python",
   "name": "python",
   "nbconvert_exporter": "python",
   "pygments_lexer": "ipython3",
   "version": "3.12.3"
  }
 },
 "nbformat": 4,
 "nbformat_minor": 5
}
