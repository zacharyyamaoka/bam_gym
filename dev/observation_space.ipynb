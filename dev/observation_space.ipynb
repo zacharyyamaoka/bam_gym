{
 "cells": [
  {
   "cell_type": "code",
   "execution_count": 3,
   "metadata": {},
   "outputs": [
    {
     "name": "stdout",
     "output_type": "stream",
     "text": [
      "Jupyter environment detected. Enabling Open3D WebVisualizer.\n",
      "[Open3D INFO] WebRTC GUI backend enabled.\n",
      "[Open3D INFO] WebRTCWindowSystem: HTTP handshake server disabled.\n"
     ]
    },
    {
     "name": "stderr",
     "output_type": "stream",
     "text": [
      "WARNING:root:Failed to import ros dependencies in rigid_transforms.py\n",
      "WARNING:root:autolab_core not installed as catkin package, RigidTransform ros methods will be unavailable\n"
     ]
    }
   ],
   "source": [
    "from ros_py_types.geometry_msgs import Pose\n",
    "from bam_gym.envs import custom_spaces\n",
    "from bam_gym.envs.clients import GenericGymClient\n",
    "from bam_gym.transport import MockTransport\n",
    "\n",
    "import gymnasium as gym\n",
    "from gymnasium import spaces\n",
    "import numpy as np\n",
    "\n",
    "%reload_ext autoreload\n",
    "%autoreload 2\n"
   ]
  },
  {
   "cell_type": "code",
   "execution_count": 4,
   "metadata": {},
   "outputs": [],
   "source": [
    "env = GenericGymClient(transport=MockTransport())"
   ]
  },
  {
   "cell_type": "code",
   "execution_count": 5,
   "metadata": {},
   "outputs": [
    {
     "name": "stdout",
     "output_type": "stream",
     "text": [
      "Dict()\n",
      "{}\n"
     ]
    }
   ],
   "source": [
    "print(env.observation_space)\n",
    "print(env.observation_space.sample())"
   ]
  },
  {
   "cell_type": "code",
   "execution_count": 27,
   "metadata": {},
   "outputs": [
    {
     "name": "stdout",
     "output_type": "stream",
     "text": [
      "Dict('pose_names': Sequence(Text(1, 32, charset=0123456789ABCDEFGHIJKLMNOPQRSTUVWXYZabcdefghijklmnopqrstuvwxyz), stack=False), 'pose': Sequence(Dict('orientation': Dict('x': Box(-3.1415927, 3.1415927, (), float32), 'y': Box(-3.1415927, 3.1415927, (), float32), 'z': Box(-3.1415927, 3.1415927, (), float32)), 'position': Dict('x': Box(-10.0, 10.0, (), float32), 'y': Box(-10.0, 10.0, (), float32), 'z': Box(-10.0, 10.0, (), float32))), stack=False))\n",
      "pose_names Sequence(Text(1, 32, charset=0123456789ABCDEFGHIJKLMNOPQRSTUVWXYZabcdefghijklmnopqrstuvwxyz), stack=False)\n",
      "pose Sequence(Dict('orientation': Dict('x': Box(-3.1415927, 3.1415927, (), float32), 'y': Box(-3.1415927, 3.1415927, (), float32), 'z': Box(-3.1415927, 3.1415927, (), float32)), 'position': Dict('x': Box(-10.0, 10.0, (), float32), 'y': Box(-10.0, 10.0, (), float32), 'z': Box(-10.0, 10.0, (), float32))), stack=False)\n",
      "\n",
      "{'orientation': {'x': array(2.6051967, dtype=float32), 'y': array(1.2027168, dtype=float32), 'z': array(0.26657036, dtype=float32)}, 'position': {'x': array(8.318599, dtype=float32), 'y': array(-5.468066, dtype=float32), 'z': array(3.770876, dtype=float32)}}\n",
      "Pose (ros_py_type): {\n",
      "  \"position\": {\n",
      "    \"x\": 8.318598747253418,\n",
      "    \"y\": -5.468066215515137,\n",
      "    \"z\": 3.770875930786133\n",
      "  },\n",
      "  \"orientation\": {\n",
      "    \"x\": 0.7681140859708907,\n",
      "    \"y\": 0.25425440885882844,\n",
      "    \"z\": -0.5116610914718308,\n",
      "    \"w\": 0.2890646536379112\n",
      "  }\n",
      "}\n",
      "[ 8.31859875 -5.46806622  3.77087593  2.60519671  1.20271683  0.26657036]\n"
     ]
    }
   ],
   "source": [
    "env = GenericGymClient(transport=MockTransport(), n_pose=2)\n",
    "print(env.observation_space)\n",
    "for key, value in env.observation_space.items():\n",
    "    print(key, value)\n",
    "\n",
    "sample = env.observation_space.sample(mask=env.obs_mask)\n",
    "\n",
    "print(sample['pose'][0])\n",
    "\n",
    "pose = Pose.from_dict(sample['pose'][0])\n",
    "print(pose)\n",
    "print(pose.to_array())\n"
   ]
  },
  {
   "cell_type": "code",
   "execution_count": 30,
   "metadata": {},
   "outputs": [
    {
     "name": "stdout",
     "output_type": "stream",
     "text": [
      "({'orientation': {'x': array(-2.0919821, dtype=float32), 'y': array(-0.77287614, dtype=float32), 'z': array(-1.53881, dtype=float32)}, 'position': {'x': array(-6.938724, dtype=float32), 'y': array(-4.5181303, dtype=float32), 'z': array(-7.585347, dtype=float32)}}, {'orientation': {'x': array(-0.09839308, dtype=float32), 'y': array(0.53637695, dtype=float32), 'z': array(-0.71929425, dtype=float32)}, 'position': {'x': array(6.3407655, dtype=float32), 'y': array(8.98067, dtype=float32), 'z': array(-2.5334551, dtype=float32)}})\n"
     ]
    }
   ],
   "source": [
    "# How can I do observation space validation in a policy?\n",
    "\n",
    "# I can sample the observation space and check for values...\n",
    "\n",
    "# For example for blind_policy\n",
    "\n",
    "sample: dict = env.observation_space.sample(mask=env.obs_mask)\n",
    "\n",
    "pose_list = sample.get('pose', ())\n",
    "assert len(pose_list) >= 1\n",
    "print(pose_list)"
   ]
  },
  {
   "cell_type": "code",
   "execution_count": 31,
   "metadata": {},
   "outputs": [
    {
     "name": "stdout",
     "output_type": "stream",
     "text": [
      "[0.02364325]\n",
      "[0.90092736]\n",
      "[-0.71168077]\n",
      "[0.8972989]\n",
      "[-0.37633708]\n",
      "[-0.1533471]\n",
      "[0.65540516]\n",
      "[-0.18160173]\n",
      "[0.09918737]\n",
      "[-0.9448818]\n"
     ]
    }
   ],
   "source": [
    "action_space = spaces.Box(low=-1, high=1, shape=None, dtype=np.float32)\n",
    "\n",
    "action_space.seed(1)\n",
    "for i in range(10):\n",
    "    print(action_space.sample())\n"
   ]
  },
  {
   "cell_type": "code",
   "execution_count": 23,
   "metadata": {},
   "outputs": [
    {
     "data": {
      "text/plain": [
       "(array([0.6273108], dtype=float32), array([0.240238], dtype=float32))"
      ]
     },
     "execution_count": 23,
     "metadata": {},
     "output_type": "execute_result"
    }
   ],
   "source": [
    "action_space = spaces.Sequence(spaces.Box(low=-1, high=1, shape=None, dtype=np.float32))\n",
    "action_space.sample(mask=(2,None))"
   ]
  },
  {
   "cell_type": "code",
   "execution_count": 9,
   "metadata": {},
   "outputs": [
    {
     "data": {
      "text/plain": [
       "(array([ 0.92676854,  0.23504135, -0.622062  , -0.01817277, -0.34372887],\n",
       "       dtype=float32),\n",
       " array([-0.15287939, -0.26875708,  0.9184532 , -0.94524306, -0.21889484],\n",
       "       dtype=float32))"
      ]
     },
     "execution_count": 9,
     "metadata": {},
     "output_type": "execute_result"
    }
   ],
   "source": [
    "action_space = spaces.Sequence(spaces.Box(low=-1, high=1, shape=(5,), dtype=np.float32))\n",
    "action_space.sample(mask=(2,None))"
   ]
  },
  {
   "cell_type": "code",
   "execution_count": 4,
   "metadata": {},
   "outputs": [],
   "source": [
    "observation_dict = spaces.Dict({})\n",
    "observation_dict[\"obs_names\"] = spaces.Sequence(spaces.Text(max_length=32))\n",
    "observation_dict[\"obs\"] = spaces.Sequence(spaces.Box(low=-1, high=1, shape=None, dtype=np.float32))"
   ]
  },
  {
   "cell_type": "code",
   "execution_count": 11,
   "metadata": {},
   "outputs": [
    {
     "data": {
      "text/plain": [
       "{'obs_names': ('HBm6gJfm',\n",
       "  'ICZg8IqLr8j1hgN0ivtGowQ7do7qWZ',\n",
       "  't',\n",
       "  'Dzc',\n",
       "  'N5XpDYKzeiarVy1wypR9o'),\n",
       " 'obs': (array([-0.13021018], dtype=float32),\n",
       "  array([0.31126815], dtype=float32),\n",
       "  array([-0.23990355], dtype=float32),\n",
       "  array([-0.07092479], dtype=float32),\n",
       "  array([-0.99374604], dtype=float32))}"
      ]
     },
     "execution_count": 11,
     "metadata": {},
     "output_type": "execute_result"
    }
   ],
   "source": [
    "mask = { \"obs_names\": (5,None), \"obs\": (5,None) }\n",
    "observation_dict.sample(mask=mask)"
   ]
  },
  {
   "cell_type": "code",
   "execution_count": 12,
   "metadata": {},
   "outputs": [],
   "source": [
    "observation_dict = spaces.Dict({})\n",
    "observation_dict[\"obs_names\"] = spaces.Sequence(spaces.Text(max_length=32))\n",
    "observation_dict[\"obs\"] = spaces.Sequence(spaces.Box(low=-1, high=1, shape=(2,2), dtype=np.float32))"
   ]
  },
  {
   "cell_type": "code",
   "execution_count": 13,
   "metadata": {},
   "outputs": [
    {
     "data": {
      "text/plain": [
       "{'obs_names': ('hHWBg55rgo4wcwaJY1sf',\n",
       "  'ZL',\n",
       "  'PrBCQiVcchea',\n",
       "  'p3IOIsROe1SzXTw1icWiiSx9CUVLO',\n",
       "  'PyK8RD6W5tu6jO4rJ7eXB6e4'),\n",
       " 'obs': (array([[ 0.6543019 , -0.95828635],\n",
       "         [-0.5836239 , -0.2220719 ]], dtype=float32),\n",
       "  array([[ 0.13040282, -0.36425245],\n",
       "         [-0.8024349 ,  0.38850486]], dtype=float32),\n",
       "  array([[ 0.01062453,  0.6428043 ],\n",
       "         [-0.64149976,  0.535741  ]], dtype=float32),\n",
       "  array([[-0.96674407, -0.38587722],\n",
       "         [ 0.11488003, -0.6347019 ]], dtype=float32),\n",
       "  array([[-0.04374694, -0.39266613],\n",
       "         [-0.63584036,  0.41252968]], dtype=float32))}"
      ]
     },
     "execution_count": 13,
     "metadata": {},
     "output_type": "execute_result"
    }
   ],
   "source": [
    "mask = { \"obs_names\": (5,None), \"obs\": (5,None) }\n",
    "observation_dict.sample(mask=mask)"
   ]
  }
 ],
 "metadata": {
  "kernelspec": {
   "display_name": "venv",
   "language": "python",
   "name": "python3"
  },
  "language_info": {
   "codemirror_mode": {
    "name": "ipython",
    "version": 3
   },
   "file_extension": ".py",
   "mimetype": "text/x-python",
   "name": "python",
   "nbconvert_exporter": "python",
   "pygments_lexer": "ipython3",
   "version": "3.12.3"
  }
 },
 "nbformat": 4,
 "nbformat_minor": 2
}
